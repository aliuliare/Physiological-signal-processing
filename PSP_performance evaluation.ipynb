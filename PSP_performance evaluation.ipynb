{
 "cells": [
  {
   "cell_type": "markdown",
   "metadata": {},
   "source": [
    "# PSP EXERCISES, SIGNALS AND MORE\n",
    "\n"
   ]
  },
  {
   "cell_type": "code",
   "execution_count": 1,
   "metadata": {},
   "outputs": [
    {
     "name": "stderr",
     "output_type": "stream",
     "text": [
      "/home/alumnos/alicia/.local/lib/python3.12/site-packages/pandas/core/arrays/masked.py:60: UserWarning: Pandas requires version '1.3.6' or newer of 'bottleneck' (version '1.3.5' currently installed).\n",
      "  from pandas.core import (\n"
     ]
    },
    {
     "ename": "ModuleNotFoundError",
     "evalue": "No module named 'ace_tools'",
     "output_type": "error",
     "traceback": [
      "\u001b[0;31m---------------------------------------------------------------------------\u001b[0m",
      "\u001b[0;31mModuleNotFoundError\u001b[0m                       Traceback (most recent call last)",
      "Cell \u001b[0;32mIn[1], line 18\u001b[0m\n\u001b[1;32m     16\u001b[0m \u001b[38;5;66;03m# Display results\u001b[39;00m\n\u001b[1;32m     17\u001b[0m \u001b[38;5;28;01mimport\u001b[39;00m \u001b[38;5;21;01mpandas\u001b[39;00m \u001b[38;5;28;01mas\u001b[39;00m \u001b[38;5;21;01mpd\u001b[39;00m\n\u001b[0;32m---> 18\u001b[0m \u001b[38;5;28;01mimport\u001b[39;00m \u001b[38;5;21;01mace_tools\u001b[39;00m \u001b[38;5;28;01mas\u001b[39;00m \u001b[38;5;21;01mtools\u001b[39;00m\n\u001b[1;32m     20\u001b[0m results \u001b[38;5;241m=\u001b[39m pd\u001b[38;5;241m.\u001b[39mDataFrame({\n\u001b[1;32m     21\u001b[0m     \u001b[38;5;124m\"\u001b[39m\u001b[38;5;124mMetric\u001b[39m\u001b[38;5;124m\"\u001b[39m: [\u001b[38;5;124m\"\u001b[39m\u001b[38;5;124mSensitivity (Recall)\u001b[39m\u001b[38;5;124m\"\u001b[39m, \u001b[38;5;124m\"\u001b[39m\u001b[38;5;124mSpecificity\u001b[39m\u001b[38;5;124m\"\u001b[39m, \u001b[38;5;124m\"\u001b[39m\u001b[38;5;124mPositive Predictive Value (PPV)\u001b[39m\u001b[38;5;124m\"\u001b[39m, \u001b[38;5;124m\"\u001b[39m\u001b[38;5;124mNegative Predictive Value (NPV)\u001b[39m\u001b[38;5;124m\"\u001b[39m, \u001b[38;5;124m\"\u001b[39m\u001b[38;5;124mAccuracy\u001b[39m\u001b[38;5;124m\"\u001b[39m, \u001b[38;5;124m\"\u001b[39m\u001b[38;5;124mPrecision\u001b[39m\u001b[38;5;124m\"\u001b[39m, \u001b[38;5;124m\"\u001b[39m\u001b[38;5;124mF1 Score\u001b[39m\u001b[38;5;124m\"\u001b[39m],\n\u001b[1;32m     22\u001b[0m     \u001b[38;5;124m\"\u001b[39m\u001b[38;5;124mValue (\u001b[39m\u001b[38;5;124m%\u001b[39m\u001b[38;5;124m)\u001b[39m\u001b[38;5;124m\"\u001b[39m: [sensitivity, specificity, ppv, npv, accuracy, precision, f1_score]\n\u001b[1;32m     23\u001b[0m })\n\u001b[1;32m     25\u001b[0m tools\u001b[38;5;241m.\u001b[39mdisplay_dataframe_to_user(name\u001b[38;5;241m=\u001b[39m\u001b[38;5;124m\"\u001b[39m\u001b[38;5;124mTest Performance Metrics\u001b[39m\u001b[38;5;124m\"\u001b[39m, dataframe\u001b[38;5;241m=\u001b[39mresults)\n",
      "\u001b[0;31mModuleNotFoundError\u001b[0m: No module named 'ace_tools'"
     ]
    }
   ],
   "source": [
    "# Given test results:\n",
    "TP = 20  # True Positive\n",
    "FP = 180 # False Positive\n",
    "FN = 10  # False Negative\n",
    "TN = 1820 # True Negative\n",
    "\n",
    "# Compute Sensitivity (Recall), Specificity, PPV, NPV, Accuracy, Precision, and F1 Score\n",
    "sensitivity = TP / (TP + FN) * 100  # Sensitivity (Recall) = TP / (TP + FN)\n",
    "specificity = TN / (TN + FP) * 100  # Specificity = TN / (TN + FP)\n",
    "ppv = TP / (TP + FP) * 100  # Positive Predictive Value (PPV) = TP / (TP + FP)\n",
    "npv = TN / (TN + FN) * 100  # Negative Predictive Value (NPV) = TN / (TN + FN)\n",
    "accuracy = (TP + TN) / (TP + TN + FP + FN) * 100  # Accuracy = (TP + TN) / Total\n",
    "precision = ppv  # Precision is the same as PPV\n",
    "f1_score = 2 * (precision * sensitivity) / (precision + sensitivity)  # F1 Score formula\n",
    "\n",
    "# Display results\n",
    "import pandas as pd\n",
    "import ace_tools as tools\n",
    "\n",
    "results = pd.DataFrame({\n",
    "    \"Metric\": [\"Sensitivity (Recall)\", \"Specificity\", \"Positive Predictive Value (PPV)\", \"Negative Predictive Value (NPV)\", \"Accuracy\", \"Precision\", \"F1 Score\"],\n",
    "    \"Value (%)\": [sensitivity, specificity, ppv, npv, accuracy, precision, f1_score]\n",
    "})\n",
    "\n",
    "tools.display_dataframe_to_user(name=\"Test Performance Metrics\", dataframe=results)\n"
   ]
  }
 ],
 "metadata": {
  "kernelspec": {
   "display_name": "base",
   "language": "python",
   "name": "python3"
  },
  "language_info": {
   "codemirror_mode": {
    "name": "ipython",
    "version": 3
   },
   "file_extension": ".py",
   "mimetype": "text/x-python",
   "name": "python",
   "nbconvert_exporter": "python",
   "pygments_lexer": "ipython3",
   "version": "3.12.3"
  }
 },
 "nbformat": 4,
 "nbformat_minor": 2
}
