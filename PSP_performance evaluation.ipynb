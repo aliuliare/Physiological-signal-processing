{
 "cells": [
  {
   "cell_type": "markdown",
   "metadata": {},
   "source": [
    "# PSP EXERCISES, SIGNALS AND MORE\n",
    "\n"
   ]
  },
  {
   "cell_type": "code",
   "execution_count": 5,
   "metadata": {},
   "outputs": [
    {
     "data": {
      "text/html": [
       "<div>\n",
       "<style scoped>\n",
       "    .dataframe tbody tr th:only-of-type {\n",
       "        vertical-align: middle;\n",
       "    }\n",
       "\n",
       "    .dataframe tbody tr th {\n",
       "        vertical-align: top;\n",
       "    }\n",
       "\n",
       "    .dataframe thead th {\n",
       "        text-align: right;\n",
       "    }\n",
       "</style>\n",
       "<table border=\"1\" class=\"dataframe\">\n",
       "  <thead>\n",
       "    <tr style=\"text-align: right;\">\n",
       "      <th></th>\n",
       "      <th>Metric</th>\n",
       "      <th>Value (%)</th>\n",
       "    </tr>\n",
       "  </thead>\n",
       "  <tbody>\n",
       "    <tr>\n",
       "      <th>0</th>\n",
       "      <td>Sensitivity (Recall)</td>\n",
       "      <td>66.666667</td>\n",
       "    </tr>\n",
       "    <tr>\n",
       "      <th>1</th>\n",
       "      <td>Specificity</td>\n",
       "      <td>91.000000</td>\n",
       "    </tr>\n",
       "    <tr>\n",
       "      <th>2</th>\n",
       "      <td>Positive Predictive Value (PPV)</td>\n",
       "      <td>10.000000</td>\n",
       "    </tr>\n",
       "    <tr>\n",
       "      <th>3</th>\n",
       "      <td>Negative Predictive Value (NPV)</td>\n",
       "      <td>99.453552</td>\n",
       "    </tr>\n",
       "    <tr>\n",
       "      <th>4</th>\n",
       "      <td>Accuracy</td>\n",
       "      <td>90.640394</td>\n",
       "    </tr>\n",
       "    <tr>\n",
       "      <th>5</th>\n",
       "      <td>Precision</td>\n",
       "      <td>10.000000</td>\n",
       "    </tr>\n",
       "    <tr>\n",
       "      <th>6</th>\n",
       "      <td>F1 Score</td>\n",
       "      <td>17.391304</td>\n",
       "    </tr>\n",
       "  </tbody>\n",
       "</table>\n",
       "</div>"
      ],
      "text/plain": [
       "                            Metric  Value (%)\n",
       "0             Sensitivity (Recall)  66.666667\n",
       "1                      Specificity  91.000000\n",
       "2  Positive Predictive Value (PPV)  10.000000\n",
       "3  Negative Predictive Value (NPV)  99.453552\n",
       "4                         Accuracy  90.640394\n",
       "5                        Precision  10.000000\n",
       "6                         F1 Score  17.391304"
      ]
     },
     "execution_count": 5,
     "metadata": {},
     "output_type": "execute_result"
    }
   ],
   "source": [
    "import pandas as pd\n",
    "\n",
    "# Given test results - choose my own values\n",
    "TP = 20  # True Positive\n",
    "FP = 180 # False Positive\n",
    "FN = 10  # False Negative\n",
    "TN = 1820 # True Negative\n",
    "\n",
    "# Compute metrics\n",
    "sensitivity = TP / (TP + FN) * 100  # Sensitivity (Recall) = TP / (TP + FN)\n",
    "specificity = TN / (TN + FP) * 100  # Specificity = TN / (TN + FP)\n",
    "ppv = TP / (TP + FP) * 100  # Positive Predictive Value (PPV) = TP / (TP + FP)\n",
    "npv = TN / (TN + FN) * 100  # Negative Predictive Value (NPV) = TN / (TN + FN)\n",
    "accuracy = (TP + TN) / (TP + TN + FP + FN) * 100  # Accuracy = (TP + TN) / Total\n",
    "precision = ppv  # Precision is the same as PPV\n",
    "f1_score = 2 * (precision * sensitivity) / (precision + sensitivity)  # F1 Score formula\n",
    "\n",
    "# Create a DataFrame for display\n",
    "results = pd.DataFrame({\n",
    "    \"Metric\": [\"Sensitivity (Recall)\", \"Specificity\", \"Positive Predictive Value (PPV)\", \"Negative Predictive Value (NPV)\", \"Accuracy\", \"Precision\", \"F1 Score\"],\n",
    "    \"Value (%)\": [sensitivity, specificity, ppv, npv, accuracy, precision, f1_score]\n",
    "})\n",
    "\n",
    "# Display results\n",
    "results\n"
   ]
  }
 ],
 "metadata": {
  "kernelspec": {
   "display_name": "base",
   "language": "python",
   "name": "python3"
  },
  "language_info": {
   "codemirror_mode": {
    "name": "ipython",
    "version": 3
   },
   "file_extension": ".py",
   "mimetype": "text/x-python",
   "name": "python",
   "nbconvert_exporter": "python",
   "pygments_lexer": "ipython3",
   "version": "3.12.4"
  }
 },
 "nbformat": 4,
 "nbformat_minor": 2
}
